{
  "nbformat": 4,
  "nbformat_minor": 0,
  "metadata": {
    "colab": {
      "name": "Assignment 1 and 2",
      "provenance": [],
      "collapsed_sections": [],
      "authorship_tag": "ABX9TyMDGDWHtHmmSs2+gOWDCAT1",
      "include_colab_link": true
    },
    "kernelspec": {
      "name": "python3",
      "display_name": "Python 3"
    }
  },
  "cells": [
    {
      "cell_type": "markdown",
      "metadata": {
        "id": "view-in-github",
        "colab_type": "text"
      },
      "source": [
        "<a href=\"https://colab.research.google.com/github/Nadda2/Assignment-Micro--Credential/blob/main/Assignment_1_and_2.ipynb\" target=\"_parent\"><img src=\"https://colab.research.google.com/assets/colab-badge.svg\" alt=\"Open In Colab\"/></a>"
      ]
    },
    {
      "cell_type": "markdown",
      "metadata": {
        "id": "wlEEN8Dtnn9u"
      },
      "source": [
        "Question 3"
      ]
    },
    {
      "cell_type": "code",
      "metadata": {
        "id": "q4WSqOWJRI5i",
        "colab": {
          "base_uri": "https://localhost:8080/"
        },
        "outputId": "42ec9f96-6282-484b-b56e-7d513db2a535"
      },
      "source": [
        "message = \"Hello There!\"\r\n",
        "print(message == 'Hello There!')\r\n",
        "message = \"Hello There!\"\r\n",
        "print(message)"
      ],
      "execution_count": 11,
      "outputs": [
        {
          "output_type": "stream",
          "text": [
            "True\n",
            "Hello There!\n"
          ],
          "name": "stdout"
        }
      ]
    },
    {
      "cell_type": "markdown",
      "metadata": {
        "id": "axyHl_QFnukN"
      },
      "source": [
        "Question 4"
      ]
    },
    {
      "cell_type": "code",
      "metadata": {
        "colab": {
          "base_uri": "https://localhost:8080/"
        },
        "id": "Fugoi8fNnyH2",
        "outputId": "f6175ac6-d8cf-4186-ce0a-a32e598a1108"
      },
      "source": [
        "first_name = input('Enter your first name: ')\r\n",
        "last_name = input('Enter your last name: ')\r\n",
        "email_ext = '@gmail.com'\r\n",
        "\r\n",
        "print(first_name + last_name + email_ext)"
      ],
      "execution_count": 6,
      "outputs": [
        {
          "output_type": "stream",
          "text": [
            "Enter your first name: Nadda\n",
            "Enter your last name: Ali\n",
            "NaddaAli@gmail.com\n"
          ],
          "name": "stdout"
        }
      ]
    },
    {
      "cell_type": "markdown",
      "metadata": {
        "id": "Wi11yd5moxP_"
      },
      "source": [
        "Question 5"
      ]
    },
    {
      "cell_type": "code",
      "metadata": {
        "colab": {
          "base_uri": "https://localhost:8080/"
        },
        "id": "91-eE0gMo1d6",
        "outputId": "a2a84a5c-72ad-4861-ea9e-84460ac14e12"
      },
      "source": [
        "name = 'Nadda Ali'\r\n",
        "print(name.upper())\r\n",
        "print(name.lower())"
      ],
      "execution_count": 7,
      "outputs": [
        {
          "output_type": "stream",
          "text": [
            "NADDA ALI\n",
            "nadda ali\n"
          ],
          "name": "stdout"
        }
      ]
    },
    {
      "cell_type": "markdown",
      "metadata": {
        "id": "3Gn8G8WGzOPm"
      },
      "source": [
        "Question 6"
      ]
    },
    {
      "cell_type": "code",
      "metadata": {
        "colab": {
          "base_uri": "https://localhost:8080/"
        },
        "id": "uMBz_fNFzP1m",
        "outputId": "1c1ccd15-5c15-45ea-cb35-0e84e2c451cb"
      },
      "source": [
        "num = 15\r\n",
        "converted_num\r\n",
        "print(\"Do you want to hang out on the \" +  str(num)  + \" of this month? \")"
      ],
      "execution_count": 40,
      "outputs": [
        {
          "output_type": "stream",
          "text": [
            "Do you want to hang out on the 15 of this month? \n"
          ],
          "name": "stdout"
        }
      ]
    },
    {
      "cell_type": "markdown",
      "metadata": {
        "id": "egN3Dd2krXJ_"
      },
      "source": [
        "L3 Number 1"
      ]
    },
    {
      "cell_type": "code",
      "metadata": {
        "colab": {
          "base_uri": "https://localhost:8080/"
        },
        "id": "jP-9LE9praaS",
        "outputId": "9ba8daa1-51d9-4362-c989-26f0b1163a5b"
      },
      "source": [
        "tvshows = ['Mr Robot', 'DareDevil', 'Hanibal','True Detective', 'Flash']\r\n",
        "print(tvshows)"
      ],
      "execution_count": 41,
      "outputs": [
        {
          "output_type": "stream",
          "text": [
            "['Mr Robot', 'DareDevil', 'Hanibal', 'True Detective', 'Flash']\n"
          ],
          "name": "stdout"
        }
      ]
    },
    {
      "cell_type": "markdown",
      "metadata": {
        "id": "79AAUlXush4F"
      },
      "source": [
        "Number 2"
      ]
    },
    {
      "cell_type": "code",
      "metadata": {
        "colab": {
          "base_uri": "https://localhost:8080/"
        },
        "id": "A19l65n3sjDn",
        "outputId": "3bc7f9b0-0326-4c2e-9bae-e7855354a2f6"
      },
      "source": [
        "tvshows = ['Mr Robot', 'DareDevil', 'Hanibal','True Detective', 'Flash']\r\n",
        "print(\"Original order:\")\r\n",
        "print(tvshows)"
      ],
      "execution_count": 42,
      "outputs": [
        {
          "output_type": "stream",
          "text": [
            "Original order:\n",
            "['Mr Robot', 'DareDevil', 'Hanibal', 'True Detective', 'Flash']\n"
          ],
          "name": "stdout"
        }
      ]
    },
    {
      "cell_type": "markdown",
      "metadata": {
        "id": "Hf6mG0U2sL0-"
      },
      "source": [
        "Number 3"
      ]
    },
    {
      "cell_type": "code",
      "metadata": {
        "colab": {
          "base_uri": "https://localhost:8080/"
        },
        "id": "NyZg7sBusNT3",
        "outputId": "b7e22a98-b0e3-4acd-d537-1753b037078b"
      },
      "source": [
        "tvshows = ['Mr Robot', 'DareDevil', 'Hanibal','True Detective', 'Flash']\r\n",
        "tvshows.sort()\r\n",
        "print(tvshows)"
      ],
      "execution_count": 15,
      "outputs": [
        {
          "output_type": "stream",
          "text": [
            "['DareDevil', 'Flash', 'Hanibal', 'Mr Robot', 'True Detective']\n"
          ],
          "name": "stdout"
        }
      ]
    },
    {
      "cell_type": "markdown",
      "metadata": {
        "id": "geISsz6pviyC"
      },
      "source": [
        "The difference between sorted and sort is that the sort will modify the list we are working on where as sorted will create new list. Sorted can show us in descending or ascending order and sort makes changes to the original function we have."
      ]
    },
    {
      "cell_type": "markdown",
      "metadata": {
        "id": "z6h7Nn7KyfPO"
      },
      "source": [
        "Number 4"
      ]
    },
    {
      "cell_type": "code",
      "metadata": {
        "colab": {
          "base_uri": "https://localhost:8080/"
        },
        "id": "J-dImc0Fygp7",
        "outputId": "ad0549eb-891c-4706-8ce5-a8fd0440dcb4"
      },
      "source": [
        "for i in tvshows:\r\n",
        "  print(i.title())"
      ],
      "execution_count": 43,
      "outputs": [
        {
          "output_type": "stream",
          "text": [
            "Mr Robot\n",
            "Daredevil\n",
            "Hanibal\n",
            "True Detective\n",
            "Flash\n"
          ],
          "name": "stdout"
        }
      ]
    },
    {
      "cell_type": "markdown",
      "metadata": {
        "id": "ZnBMN4MJtoMt"
      },
      "source": [
        "Number 5 "
      ]
    },
    {
      "cell_type": "code",
      "metadata": {
        "colab": {
          "base_uri": "https://localhost:8080/"
        },
        "id": "vslPr6Q-ttdA",
        "outputId": "3ae28282-a0fd-4891-fa0a-b8caf2a44100"
      },
      "source": [
        "print(tvshows)\r\n",
        "tvshows.sort(reverse=True)\r\n",
        "print(tvshows)"
      ],
      "execution_count": 44,
      "outputs": [
        {
          "output_type": "stream",
          "text": [
            "['Mr Robot', 'DareDevil', 'Hanibal', 'True Detective', 'Flash']\n",
            "['True Detective', 'Mr Robot', 'Hanibal', 'Flash', 'DareDevil']\n"
          ],
          "name": "stdout"
        }
      ]
    },
    {
      "cell_type": "code",
      "metadata": {
        "colab": {
          "base_uri": "https://localhost:8080/"
        },
        "id": "gB3HID6uuiLm",
        "outputId": "4029ebeb-a5e8-405f-9cf2-9b93ec060df9"
      },
      "source": [
        "tvshows = ['Mr Robot', 'DareDevil', 'Hanibal','True Detective', 'Flash']\r\n",
        "x = sorted(tvshows, reverse=True)\r\n",
        "print(x)"
      ],
      "execution_count": 45,
      "outputs": [
        {
          "output_type": "stream",
          "text": [
            "['True Detective', 'Mr Robot', 'Hanibal', 'Flash', 'DareDevil']\n"
          ],
          "name": "stdout"
        }
      ]
    },
    {
      "cell_type": "markdown",
      "metadata": {
        "id": "e8-TO0UGwE8P"
      },
      "source": [
        "Number 6"
      ]
    },
    {
      "cell_type": "code",
      "metadata": {
        "colab": {
          "base_uri": "https://localhost:8080/"
        },
        "id": "iQ8muDM7wGxc",
        "outputId": "7f470c9b-ed17-44f5-ac0a-49aeb2ed6e70"
      },
      "source": [
        "tvshows = ['Mr Robot', 'DareDevil', 'Hanibal','True Detective', 'Flash']\r\n",
        "x = len(tvshows)\r\n",
        "print(x)"
      ],
      "execution_count": 46,
      "outputs": [
        {
          "output_type": "stream",
          "text": [
            "5\n"
          ],
          "name": "stdout"
        }
      ]
    },
    {
      "cell_type": "markdown",
      "metadata": {
        "id": "6nrSq51Ow7yA"
      },
      "source": [
        "We can also do like this"
      ]
    },
    {
      "cell_type": "code",
      "metadata": {
        "colab": {
          "base_uri": "https://localhost:8080/"
        },
        "id": "Rq2NS7PQA7gV",
        "outputId": "2e3836f6-6338-4510-89e2-95b63de8ccce"
      },
      "source": [
        " tvshows = ['Mr Robot', 'DareDevil', 'Hanibal','True Detective', 'Flash']\r\n",
        "for show in tvshows:\r\n",
        "  print(show.title()+ ' is one of my favourite TV Shows')\r\n",
        "print('\\nSo, I have  ' + str(len(tvshows)) + 'favorite TV shows.')"
      ],
      "execution_count": 51,
      "outputs": [
        {
          "output_type": "stream",
          "text": [
            "Mr Robot is one of my favourite TV Shows\n",
            "Daredevil is one of my favourite TV Shows\n",
            "Hanibal is one of my favourite TV Shows\n",
            "True Detective is one of my favourite TV Shows\n",
            "Flash is one of my favourite TV Shows\n",
            "\n",
            "So, I have  5favorite TV shows.\n"
          ],
          "name": "stdout"
        }
      ]
    }
  ]
}