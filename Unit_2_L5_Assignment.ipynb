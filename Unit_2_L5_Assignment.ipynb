{
  "nbformat": 4,
  "nbformat_minor": 0,
  "metadata": {
    "colab": {
      "name": "Unit 2 L5 Assignment",
      "provenance": [],
      "authorship_tag": "ABX9TyPEmgIGo9adL9yWDmbthQ5t",
      "include_colab_link": true
    },
    "kernelspec": {
      "name": "python3",
      "display_name": "Python 3"
    }
  },
  "cells": [
    {
      "cell_type": "markdown",
      "metadata": {
        "id": "view-in-github",
        "colab_type": "text"
      },
      "source": [
        "<a href=\"https://colab.research.google.com/github/Nadda2/Assignment-Micro--Credential/blob/main/Unit_2_L5_Assignment.ipynb\" target=\"_parent\"><img src=\"https://colab.research.google.com/assets/colab-badge.svg\" alt=\"Open In Colab\"/></a>"
      ]
    },
    {
      "cell_type": "markdown",
      "metadata": {
        "id": "IkQnzWpHkMZG"
      },
      "source": [
        "\r\n",
        "\r\n",
        "Make a list of 5 or more usernames, including an admin account.  Imagine you are writing code that will welcome people to your application on login. Loop through the list and print your greeting.\r\n",
        "If the admin account logs in, give them a special greeting.  They’re the admin, after all!\r\n",
        "Other users can get the generic greeting\r\n",
        "\r\n",
        "\r\n"
      ]
    },
    {
      "cell_type": "code",
      "metadata": {
        "colab": {
          "base_uri": "https://localhost:8080/"
        },
        "id": "C_lfGGxuob6N",
        "outputId": "e55ca777-887a-4f2e-d854-04ffe0b67555"
      },
      "source": [
        "user = { 'Andrew' : 'regular',\r\n",
        "          'Drake' : 'admin',\r\n",
        "          'John' : 'admin',\r\n",
        "          'Maya' : 'regular',\r\n",
        "          'Shawn' : 'admin'}\r\n",
        "for keys, values in user.items():\r\n",
        "  if values == 'admin':\r\n",
        "    print('Welcome Admin! Thanks for joining!')\r\n",
        "  else:\r\n",
        "    print(\"Welcome! Thanks for joining\")"
      ],
      "execution_count": 52,
      "outputs": [
        {
          "output_type": "stream",
          "text": [
            "Welcome! Thanks for joining\n",
            "Welcome Admin! Thanks for joining!\n",
            "Welcome Admin! Thanks for joining!\n",
            "Welcome! Thanks for joining\n",
            "Welcome Admin! Thanks for joining!\n"
          ],
          "name": "stdout"
        }
      ]
    },
    {
      "cell_type": "markdown",
      "metadata": {
        "id": "G5TLCQiGkCCL"
      },
      "source": [
        "Store numbers 1-10 in a list\r\n",
        "Loop through the list\r\n",
        "Use an if-elif-else chain inside your loop to print the ordinal ending for each number – for example – 1st, 2nd, 3rd … etc.\r\n"
      ]
    },
    {
      "cell_type": "code",
      "metadata": {
        "colab": {
          "base_uri": "https://localhost:8080/"
        },
        "id": "K7waxafLPklB",
        "outputId": "5129362c-be28-41cd-8b3a-a181054ce653"
      },
      "source": [
        "numbers = list(range(1,11))\r\n",
        "\r\n",
        "for number in numbers:\r\n",
        "    if number == 1:\r\n",
        "        print(\"1st\")\r\n",
        "    elif number == 2:\r\n",
        "        print(\"2nd\")\r\n",
        "    elif number == 3:\r\n",
        "        print(\"3rd\")\r\n",
        "    else:\r\n",
        "        print(str(number) + \"th\")"
      ],
      "execution_count": 9,
      "outputs": [
        {
          "output_type": "stream",
          "text": [
            "1st\n",
            "2nd\n",
            "3rd\n",
            "4th\n",
            "5th\n",
            "6th\n",
            "7th\n",
            "8th\n",
            "9th\n",
            "10th\n"
          ],
          "name": "stdout"
        }
      ]
    },
    {
      "cell_type": "code",
      "metadata": {
        "id": "OMiZtZp1kH-6"
      },
      "source": [
        ""
      ],
      "execution_count": null,
      "outputs": []
    }
  ]
}